{
  "nbformat": 4,
  "nbformat_minor": 0,
  "metadata": {
    "colab": {
      "name": "Untitled8.ipynb",
      "provenance": [],
      "authorship_tag": "ABX9TyM2Cc6vO1/zS13M5vkqIq2q",
      "include_colab_link": true
    },
    "kernelspec": {
      "name": "python3",
      "display_name": "Python 3"
    },
    "language_info": {
      "name": "python"
    }
  },
  "cells": [
    {
      "cell_type": "markdown",
      "metadata": {
        "id": "view-in-github",
        "colab_type": "text"
      },
      "source": [
        "<a href=\"https://colab.research.google.com/github/nguyenthanh222/phantichdulieu/blob/main/Lab07.ipynb\" target=\"_parent\"><img src=\"https://colab.research.google.com/assets/colab-badge.svg\" alt=\"Open In Colab\"/></a>"
      ]
    },
    {
      "cell_type": "code",
      "execution_count": 1,
      "metadata": {
        "id": "ZIuXsG5mbc-X"
      },
      "outputs": [],
      "source": [
        "import numpy as np\n",
        "#hàm để hiển thị các tấm ảnh\n",
        "import matplotlib.pyplot as plt\n",
        "from keras.preprocessing.image import img_to_array\n",
        "from keras.preprocessing.image import load_img"
      ]
    },
    {
      "cell_type": "code",
      "source": [
        "#để chọn ngẫu nhiên các tấm ảnh\n",
        "import random\n",
        "import os"
      ],
      "metadata": {
        "id": "_DrWW20-brHk"
      },
      "execution_count": 2,
      "outputs": []
    },
    {
      "cell_type": "code",
      "source": [
        "#để load dữ liệu trong tập mẫu\n",
        "from keras.datasets import mnist\n",
        "from keras.models import load_model\n",
        "from matplotlib import image"
      ],
      "metadata": {
        "id": "WR_erUgabwYY"
      },
      "execution_count": 3,
      "outputs": []
    },
    {
      "cell_type": "markdown",
      "source": [
        "Các hàm sau để xây dựng mô hình mạng neural"
      ],
      "metadata": {
        "id": "-YAUXuFwb53X"
      }
    },
    {
      "cell_type": "code",
      "source": [
        "#thêm 1 lớp, thêm hàm kích hoạt activation\n",
        "from keras.models import Sequential\n",
        "from keras.utils import np_utils\n",
        "from keras.layers.core import Dense,Activation\n",
        "(x_train,y_train),(x_test,y_test)=mnist.load_data()"
      ],
      "metadata": {
        "colab": {
          "base_uri": "https://localhost:8080/"
        },
        "id": "EvbdmkxPb1TU",
        "outputId": "2a35f35f-4c7c-4e13-fd49-429c9ea8e6a4"
      },
      "execution_count": 4,
      "outputs": [
        {
          "output_type": "stream",
          "name": "stdout",
          "text": [
            "Downloading data from https://storage.googleapis.com/tensorflow/tf-keras-datasets/mnist.npz\n",
            "11493376/11490434 [==============================] - 0s 0us/step\n",
            "11501568/11490434 [==============================] - 0s 0us/step\n"
          ]
        }
      ]
    },
    {
      "cell_type": "code",
      "source": [
        "def load_image(filename):\n",
        "  # load tấm ảnh lên\n",
        "  img = load_img(filename, grayscale=True, target_size=(28, 28))\n",
        "  # chuyển về dạng vector\n",
        "  img=img_to_array(img)\n",
        "\t# reshape into a single sample with 1 channel\n",
        "  img=img.reshape(1,784)\n",
        "  img=img.astype('float32')\n",
        "  #chuẩn hóa dữ liệu về 0-1\n",
        "  img=img/255.0\n",
        "  return img"
      ],
      "metadata": {
        "id": "k56YykTYcA8Z"
      },
      "execution_count": 5,
      "outputs": []
    },
    {
      "cell_type": "code",
      "source": [
        "#dữ liệu trong tập data mnist là 60000 tấm ảnh trắng đen có kích thước là 28X28 pixel\n",
        "#mỗi pixel có giá trị từ 0-255, 0 là màu đen và 255 là màu trắng sáng nhất\n",
        "# các giá trị càng gần với 255 thì càng sáng\n",
        "# xem shape của tập train, sau khi xem thì ta sẽ thấy thông tin x_train shape (60000, 28, 28)\n",
        "# nghĩa là có 60000 tấm ảnh trong tập train, mỗi tấm ảnh có kích thước 28*28\n",
        "print(\"x_train shape\",x_train.shape)"
      ],
      "metadata": {
        "colab": {
          "base_uri": "https://localhost:8080/"
        },
        "id": "TEEoVZydcFRQ",
        "outputId": "2b102712-7741-4e23-b117-389fc490e747"
      },
      "execution_count": 6,
      "outputs": [
        {
          "output_type": "stream",
          "name": "stdout",
          "text": [
            "x_train shape (60000, 28, 28)\n"
          ]
        }
      ]
    },
    {
      "cell_type": "markdown",
      "source": [
        "Hàm để hiển thị ảnh ngẫu nhiên"
      ],
      "metadata": {
        "id": "PVDRtmo-cLb_"
      }
    },
    {
      "cell_type": "code",
      "source": [
        "#chuyển đổi đầu vào là 1 vector\n",
        "#vì tập dữ liệu nmist được lưu ở dạng ma trận 2 chiều gồm 28 dòng 28 cột\n",
        "#nên phải chuyển từ ma trận sang vetor\n",
        "#784=28*28\n",
        "x_train=x_train.reshape(60000,784)\n",
        "x_train=x_train.astype('float32')\n",
        "#chuẩn hóa dữ liệu bằn trong 0-1 nên chia cho 255\n",
        "x_train/=255"
      ],
      "metadata": {
        "id": "ylvjDWvdcMYr"
      },
      "execution_count": 7,
      "outputs": []
    },
    {
      "cell_type": "code",
      "source": [
        "#test\n",
        "print(x_train)"
      ],
      "metadata": {
        "colab": {
          "base_uri": "https://localhost:8080/"
        },
        "id": "vJI0lPlxcXSi",
        "outputId": "4e06e6fc-b3ab-4daf-dae3-ebf063e7e9a9"
      },
      "execution_count": 8,
      "outputs": [
        {
          "output_type": "stream",
          "name": "stdout",
          "text": [
            "[[0. 0. 0. ... 0. 0. 0.]\n",
            " [0. 0. 0. ... 0. 0. 0.]\n",
            " [0. 0. 0. ... 0. 0. 0.]\n",
            " ...\n",
            " [0. 0. 0. ... 0. 0. 0.]\n",
            " [0. 0. 0. ... 0. 0. 0.]\n",
            " [0. 0. 0. ... 0. 0. 0.]]\n"
          ]
        }
      ]
    },
    {
      "cell_type": "code",
      "source": [
        "#giống như tập train, tập test gồm có 10000 tấm ảnh\n",
        "x_test=x_test.reshape(10000,784)\n",
        "x_test=x_test.astype('float32')\n",
        "x_test/=255\n",
        "#test\n",
        "print(x_test)"
      ],
      "metadata": {
        "colab": {
          "base_uri": "https://localhost:8080/"
        },
        "id": "xjXnU_ubca3r",
        "outputId": "d5743f30-4a56-4bbc-f3bc-edcdca74edd1"
      },
      "execution_count": 9,
      "outputs": [
        {
          "output_type": "stream",
          "name": "stdout",
          "text": [
            "[[0. 0. 0. ... 0. 0. 0.]\n",
            " [0. 0. 0. ... 0. 0. 0.]\n",
            " [0. 0. 0. ... 0. 0. 0.]\n",
            " ...\n",
            " [0. 0. 0. ... 0. 0. 0.]\n",
            " [0. 0. 0. ... 0. 0. 0.]\n",
            " [0. 0. 0. ... 0. 0. 0.]]\n"
          ]
        }
      ]
    },
    {
      "cell_type": "code",
      "source": [
        "# vì đầu ra của mạng neural là nhận dạng 1 tấm ảnh thuộc 1 trong các lớp 0-9, nên ta dùng hàm này để \n",
        "# gán các giá trị kết quả cho tập y_test\n",
        "# ví dụ tấm ảnh là số 2 thì y_test ứng với tấm đó là:\n",
        "# [[0. 0. 1. ... 0. 0. 0.]]\n",
        "# giá trị ở vị trí số 2 là 1, các giá trị còn lại là 0\n",
        "np_class=10\n",
        "y_train=np_utils.to_categorical(y_train,np_class)\n",
        "y_test=np_utils.to_categorical(y_test,np_class)"
      ],
      "metadata": {
        "id": "TfzuODyzceni"
      },
      "execution_count": 10,
      "outputs": []
    },
    {
      "cell_type": "code",
      "source": [
        "model=Sequential()\n",
        "#add vào 1 lớp input, có 10 neural mỗi neural có 784 input\n",
        "model.add(Dense(10,input_shape=(784,)))\n",
        "model.add(Activation('relu'))"
      ],
      "metadata": {
        "id": "UZTtRs6lcgCg"
      },
      "execution_count": 11,
      "outputs": []
    },
    {
      "cell_type": "code",
      "source": [
        "# add lớp hidden sẽ tự động lấy đầu vào của lớp đầu, giá trị hiden có thể thay đổi\n",
        "model.add(Dense(40))\n",
        "model.add(Activation('relu'))\n",
        "#add vào lớp đầu ra bắt buộc là 10, vì 0->9 là 10 giá trị\n",
        "model.add(Dense(10))"
      ],
      "metadata": {
        "id": "JU_szDGdci9P"
      },
      "execution_count": 12,
      "outputs": []
    },
    {
      "cell_type": "code",
      "source": [
        "# dùng hàm softmax vì đầu ra là 10 lớp (nhận dạng số 0-9)\n",
        "model.add(Activation('softmax'))\n",
        "model.summary()"
      ],
      "metadata": {
        "colab": {
          "base_uri": "https://localhost:8080/"
        },
        "id": "OHvBiLnbc4mq",
        "outputId": "8f5ceb36-f183-4c26-cca1-05844d7ce2d3"
      },
      "execution_count": 13,
      "outputs": [
        {
          "output_type": "stream",
          "name": "stdout",
          "text": [
            "Model: \"sequential\"\n",
            "_________________________________________________________________\n",
            " Layer (type)                Output Shape              Param #   \n",
            "=================================================================\n",
            " dense (Dense)               (None, 10)                7850      \n",
            "                                                                 \n",
            " activation (Activation)     (None, 10)                0         \n",
            "                                                                 \n",
            " dense_1 (Dense)             (None, 40)                440       \n",
            "                                                                 \n",
            " activation_1 (Activation)   (None, 40)                0         \n",
            "                                                                 \n",
            " dense_2 (Dense)             (None, 10)                410       \n",
            "                                                                 \n",
            " activation_2 (Activation)   (None, 10)                0         \n",
            "                                                                 \n",
            "=================================================================\n",
            "Total params: 8,700\n",
            "Trainable params: 8,700\n",
            "Non-trainable params: 0\n",
            "_________________________________________________________________\n"
          ]
        }
      ]
    },
    {
      "cell_type": "code",
      "source": [
        "model.compile(loss='categorical_crossentropy',optimizer='rmsprop',metrics=['accuracy'])\n",
        "#mỗi lần lấy 128 tấm ảnh để train\n",
        "history=model.fit(x_train, y_train, batch_size = 128,epochs = 5,verbose = 2,validation_data=( x_test, y_test ))\n",
        "#model.fit(x_train,y_train,batch_size=128,epochs=5)\n",
        "save_dir = \"/ results /\"\n",
        "model_name = 'keras_mnist.h5'\n",
        "model_path = os.path.join(save_dir, model_name)\n",
        "model.save (model_path)\n",
        "print( 'Saved trained model at %s ' % model_path )"
      ],
      "metadata": {
        "colab": {
          "base_uri": "https://localhost:8080/"
        },
        "id": "FMBPqLw2c7Zv",
        "outputId": "09304dbf-962d-48f2-95f5-b28a29325f7a"
      },
      "execution_count": 14,
      "outputs": [
        {
          "output_type": "stream",
          "name": "stdout",
          "text": [
            "Epoch 1/5\n",
            "469/469 - 4s - loss: 0.6261 - accuracy: 0.8207 - val_loss: 0.3060 - val_accuracy: 0.9125 - 4s/epoch - 9ms/step\n",
            "Epoch 2/5\n",
            "469/469 - 1s - loss: 0.2935 - accuracy: 0.9146 - val_loss: 0.2650 - val_accuracy: 0.9223 - 1s/epoch - 3ms/step\n",
            "Epoch 3/5\n",
            "469/469 - 1s - loss: 0.2573 - accuracy: 0.9254 - val_loss: 0.2394 - val_accuracy: 0.9323 - 1s/epoch - 2ms/step\n",
            "Epoch 4/5\n",
            "469/469 - 1s - loss: 0.2355 - accuracy: 0.9316 - val_loss: 0.2289 - val_accuracy: 0.9336 - 1s/epoch - 2ms/step\n",
            "Epoch 5/5\n",
            "469/469 - 1s - loss: 0.2195 - accuracy: 0.9361 - val_loss: 0.2176 - val_accuracy: 0.9377 - 1s/epoch - 2ms/step\n",
            "Saved trained model at / results /keras_mnist.h5 \n"
          ]
        }
      ]
    },
    {
      "cell_type": "code",
      "source": [
        "fig = plt.figure ()\n",
        "plt.subplot( 2,1,1 )\n",
        "plt.plot(history.history['accuracy'])\n",
        "plt.plot (history.history['val_accuracy'])\n",
        "plt.title ('model accuracy')\n",
        "plt.ylabel ('accuracy')\n",
        "plt.xlabel ('epoch')\n",
        "plt.legend (['train', 'test'], loc='lower right')"
      ],
      "metadata": {
        "colab": {
          "base_uri": "https://localhost:8080/",
          "height": 194
        },
        "id": "8w3FCbQOdEh5",
        "outputId": "af130928-f61c-46cb-935b-a6045bc275c1"
      },
      "execution_count": 15,
      "outputs": [
        {
          "output_type": "execute_result",
          "data": {
            "text/plain": [
              "<matplotlib.legend.Legend at 0x7f56f85b0e10>"
            ]
          },
          "metadata": {},
          "execution_count": 15
        },
        {
          "output_type": "display_data",
          "data": {
            "text/plain": [
              "<Figure size 432x288 with 1 Axes>"
            ],
            "image/png": "[encoded data removed]"
          },
          "metadata": {
            "needs_background": "light"
          }
        }
      ]
    },
    {
      "cell_type": "code",
      "source": [
        "plt.subplot (2,1,2)\n",
        "plt.plot( history.history ['loss'])\n",
        "plt.plot( history.history['val_loss'])\n",
        "plt.title('model loss' )\n",
        "plt.ylabel('loss')\n",
        "plt.xlabel('epoch')\n",
        "plt.legend(['train','test'],loc='upper right')\n",
        "plt.tight_layout ()"
      ],
      "metadata": {
        "colab": {
          "base_uri": "https://localhost:8080/",
          "height": 182
        },
        "id": "RxTgSJxvdI7h",
        "outputId": "0db1955a-5fed-4d2a-9dd2-64b19513ac80"
      },
      "execution_count": 16,
      "outputs": [
        {
          "output_type": "display_data",
          "data": {
            "text/plain": [
              "<Figure size 432x288 with 1 Axes>"
            ],
            "image/png": "[encoded data removed]"
          },
          "metadata": {
            "needs_background": "light"
          }
        }
      ]
    },
    {
      "cell_type": "code",
      "source": [
        "mnist_model = load_model(model_path)\n",
        "loss_and_metrics = mnist_model.evaluate( x_test, y_test, verbose = 2 )\n",
        "print( \"Test Loss\" , loss_and_metrics [0])\n",
        "print( \"Test Accuracy\" , loss_and_metrics[1])"
      ],
      "metadata": {
        "colab": {
          "base_uri": "https://localhost:8080/"
        },
        "id": "6wRI8sz-dMog",
        "outputId": "0f59de49-bcbb-4403-9d73-1588da3f65d5"
      },
      "execution_count": 17,
      "outputs": [
        {
          "output_type": "stream",
          "name": "stdout",
          "text": [
            "313/313 - 1s - loss: 0.2176 - accuracy: 0.9377 - 697ms/epoch - 2ms/step\n",
            "Test Loss 0.2176014631986618\n",
            "Test Accuracy 0.9376999735832214\n"
          ]
        }
      ]
    },
    {
      "cell_type": "code",
      "source": [
        "#load 1 tấm ảnh cần dự báo\n",
        "image_test = load_image('so2.jpg')\n",
        "\n",
        "#dụ báo tấm ảnh này là số mấy\n",
        "digit = mnist_model.predict(image_test)\n",
        "print('Du bao day la so:',digit[0].argmax())"
      ],
      "metadata": {
        "colab": {
          "base_uri": "https://localhost:8080/"
        },
        "id": "DOegt9xMdPBS",
        "outputId": "dd1d9ca9-67bf-4ec9-b4a5-9bdf71efafae"
      },
      "execution_count": 19,
      "outputs": [
        {
          "output_type": "stream",
          "name": "stdout",
          "text": [
            "Du bao day la so: 3\n"
          ]
        },
        {
          "output_type": "stream",
          "name": "stderr",
          "text": [
            "/usr/local/lib/python3.7/dist-packages/keras_preprocessing/image/utils.py:107: UserWarning: grayscale is deprecated. Please use color_mode = \"grayscale\"\n",
            "  warnings.warn('grayscale is deprecated. Please use '\n"
          ]
        }
      ]
    },
    {
      "cell_type": "code",
      "source": [
        "# hiển thị 9 tấm ảnh ngẫu nhiên trong tập test\n",
        "# hiển thị kết quả dự báo của 9 tấm ảnh này theo mô hình neural vừa xây dựng\n",
        "# vì hàm imshow để hiển thị tấm ảnh dạng 28*28, vì ta đã reshape tấm ảnh thành dạng vector ở bước trước\n",
        "# nên bây giờ muốn hiển thị tấm ảnh cho tập dữ liệu đã reshape, ta lại dùng hàm reshape để về dạng ban đầu\n",
        "# vì hàm softmax dùng ở mạng neural ở lớp output là hàm tính xác suất, nên xác suất rơi vào lớp nào nhiều nhất thì output sẽ ra giá trị đó.\n",
        "# muốn xuất kết quả dự báo, ta dùng hàm argmax()\n",
        "predicted_classes=mnist_model.predict(x_test)"
      ],
      "metadata": {
        "id": "vU72vSJIfRCY"
      },
      "execution_count": 20,
      "outputs": []
    },
    {
      "cell_type": "code",
      "source": [
        "plt.rcParams['figure.figsize']=(9,9)\n",
        "for i in range(9):\n",
        "  plt.subplot(3,3,i+1)\n",
        "  num=random.randint(0,len(x_test))\n",
        "  plt.imshow(x_test[num].reshape(28,28),cmap='gray',interpolation=None)\n",
        "  plt.title('Class {}'.format(predicted_classes[num].argmax()))\n",
        "plt.tight_layout()"
      ],
      "metadata": {
        "colab": {
          "base_uri": "https://localhost:8080/",
          "height": 657
        },
        "id": "SEFyXplhfVBn",
        "outputId": "9f167019-d8dc-493f-8fb4-74a50aa1d564"
      },
      "execution_count": 21,
      "outputs": [
        {
          "output_type": "display_data",
          "data": {
            "text/plain": [
              "<Figure size 648x648 with 9 Axes>"
            ],
            "image/png": "[encoded data removed]"
          },
          "metadata": {
            "needs_background": "light"
          }
        }
      ]
    }
  ]
}